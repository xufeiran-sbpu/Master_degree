{
 "cells": [
  {
   "cell_type": "code",
   "execution_count": 1,
   "id": "241c278b",
   "metadata": {},
   "outputs": [],
   "source": [
    "import numpy as np \n",
    "import pandas as pd \n",
    "import sklearn"
   ]
  },
  {
   "cell_type": "code",
   "execution_count": 4,
   "id": "fdd39165",
   "metadata": {},
   "outputs": [],
   "source": [
    "from matplotlib import pyplot as plt \n",
    "\n",
    "plt.rcParams['figure.figsize'] = (12,7)\n",
    "plt.style.use('ggplot')"
   ]
  },
  {
   "cell_type": "code",
   "execution_count": 6,
   "id": "d9501866",
   "metadata": {},
   "outputs": [],
   "source": [
    "from sklearn.cluster import KMeans"
   ]
  },
  {
   "cell_type": "code",
   "execution_count": null,
   "id": "786b9016",
   "metadata": {},
   "outputs": [],
   "source": [
    "# Fiting a KMean model to our data \n",
    "kmeans_3 = KMeans(n_clusters = 3)\n",
    "kmeans_iris = kmeans_3 .fit(data[['V1','V2']])\n"
   ]
  },
  {
   "cell_type": "code",
   "execution_count": null,
   "id": "b404886d",
   "metadata": {},
   "outputs": [],
   "source": [
    "y_kmeans = kmeans_3.predict(data)"
   ]
  },
  {
   "cell_type": "code",
   "execution_count": null,
   "id": "33deeb81",
   "metadata": {},
   "outputs": [],
   "source": [
    "f1 = data['V1'].values\n",
    "f2 = data[\"V2\"].values \n",
    "X = np.array(list(zip(f1,f2)))"
   ]
  },
  {
   "cell_type": "code",
   "execution_count": null,
   "id": "0eb8f8b4",
   "metadata": {},
   "outputs": [],
   "source": [
    "plt.scatter(X[:,0],X[:,1],c = y_kmeans, s = 8, cmap = 'virids')"
   ]
  }
 ],
 "metadata": {
  "kernelspec": {
   "display_name": "Python 3",
   "language": "python",
   "name": "python3"
  },
  "language_info": {
   "codemirror_mode": {
    "name": "ipython",
    "version": 3
   },
   "file_extension": ".py",
   "mimetype": "text/x-python",
   "name": "python",
   "nbconvert_exporter": "python",
   "pygments_lexer": "ipython3",
   "version": "3.8.8"
  }
 },
 "nbformat": 4,
 "nbformat_minor": 5
}
